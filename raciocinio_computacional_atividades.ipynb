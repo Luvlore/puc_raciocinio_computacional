{
  "nbformat": 4,
  "nbformat_minor": 0,
  "metadata": {
    "colab": {
      "provenance": [],
      "authorship_tag": "ABX9TyMeFMYqKmqnOiv0wsJ5jmIp",
      "include_colab_link": true
    },
    "kernelspec": {
      "name": "python3",
      "display_name": "Python 3"
    },
    "language_info": {
      "name": "python"
    }
  },
  "cells": [
    {
      "cell_type": "markdown",
      "metadata": {
        "id": "view-in-github",
        "colab_type": "text"
      },
      "source": [
        "<a href=\"https://colab.research.google.com/github/Luvlore/puc_raciocinio_computacional/blob/main/raciocinio_computacional_atividades.ipynb\" target=\"_parent\"><img src=\"https://colab.research.google.com/assets/colab-badge.svg\" alt=\"Open In Colab\"/></a>"
      ]
    },
    {
      "cell_type": "markdown",
      "source": [
        "## Exercicios"
      ],
      "metadata": {
        "id": "PWTs-obFxoYQ"
      }
    },
    {
      "cell_type": "code",
      "execution_count": null,
      "metadata": {
        "colab": {
          "base_uri": "https://localhost:8080/"
        },
        "id": "gtzjZeyyewJo",
        "outputId": "539e8c53-4837-401d-8c2c-8215480bc644"
      },
      "outputs": [
        {
          "output_type": "stream",
          "name": "stdout",
          "text": [
            "Digite sua data de aniversário (dd/mm/yyyy): 22/07/2003\n",
            "Digite o dia de hoje (dd/mm/yyyy): 01/11/2024\n",
            "Sua idade atual é 21 anos\n"
          ]
        }
      ],
      "source": [
        "# Crie em algoritimo que receba a data de nascimento do usuário como entrada e retorne a idade dele\n",
        "\n",
        "birthday = input('Digite sua data de aniversário (dd/mm/yyyy): ')\n",
        "\n",
        "current_date = input('Digite o dia de hoje (dd/mm/yyyy): ')\n",
        "\n",
        "day_birth = int(birthday[:2])\n",
        "mounth_birth = int(birthday[3:5])\n",
        "year_birth = int(birthday[6:])\n",
        "\n",
        "current_day = int(current_date[:2])\n",
        "current_mounth = int(current_date[3:5])\n",
        "current_year = int(current_date[6:])\n",
        "\n",
        "age = current_year - year_birth\n",
        "\n",
        "if mounth_birth > current_mounth or mounth_birth == current_mounth and day_birth > current_day:\n",
        "  age -= 1\n",
        "\n",
        "print('Sua idade atual é', age, 'anos')"
      ]
    },
    {
      "cell_type": "code",
      "source": [
        "# Exercício de fixação 1: Elabore um algoritmo que peça ao usuário um número e informe o quadrado dele (isto é, o número multiplicado por ele mesmo).\n",
        "\n",
        "quadrado = int(input('Informe um número para obter seu quadrado: '))\n",
        "\n",
        "print('O quadrado de', quadrado, 'é', quadrado * quadrado)"
      ],
      "metadata": {
        "colab": {
          "base_uri": "https://localhost:8080/"
        },
        "id": "qpZ0CaCCvWMW",
        "outputId": "965c368f-977d-4fdb-85cc-ef3e6d72b534"
      },
      "execution_count": null,
      "outputs": [
        {
          "output_type": "stream",
          "name": "stdout",
          "text": [
            "Informe um número para obter seu quadrado: 52\n",
            "O quadrado de 52 é 2704\n"
          ]
        }
      ]
    },
    {
      "cell_type": "code",
      "source": [
        "# Exercício de fixação 2: Elabore um algoritmo que solicite dois números ao usuário e exiba a soma deles.\n",
        "\n",
        "numero1 = int(input('Informe um número: '))\n",
        "numero2 = int(input('Informe outro número: '))\n",
        "\n",
        "print('A soma de', numero1, 'e', numero2, 'é', numero1 + numero2)"
      ],
      "metadata": {
        "colab": {
          "base_uri": "https://localhost:8080/"
        },
        "id": "7tawhgV0vsJq",
        "outputId": "f9630275-6d38-438d-991f-493d17cb36a5"
      },
      "execution_count": null,
      "outputs": [
        {
          "output_type": "stream",
          "name": "stdout",
          "text": [
            "Informe um número: 6\n",
            "Informe outro número: 9\n",
            "A soma de 6 e 9 é 15\n"
          ]
        }
      ]
    },
    {
      "cell_type": "code",
      "source": [
        "# Exercício de fixação 3: Elabore um algoritmo que solicite ao usuário seu ano de nascimento e calcule sua idade com relação ao ano de 2023, sendo que o usuário já fez aniversário nesse ano.\n",
        "\n",
        "ano_nascimento = int(input('Informe seu ano de nascimento: '))\n",
        "\n",
        "print('Sua idade no ano de 2023 é de', 2023 - ano_nascimento)"
      ],
      "metadata": {
        "colab": {
          "base_uri": "https://localhost:8080/"
        },
        "id": "5t2qt61owDYM",
        "outputId": "4fdb5298-8e67-4a84-963d-9ef4d1e32a82"
      },
      "execution_count": null,
      "outputs": [
        {
          "output_type": "stream",
          "name": "stdout",
          "text": [
            "Informe seu ano de nascimento: 2003\n",
            "Sua idade no ano de 2023 é de 20\n"
          ]
        }
      ]
    },
    {
      "cell_type": "code",
      "source": [
        "# Exercício de fixação 5: Elabore um algoritmo que solicite valor de um produto e a quantidade comprada, informando o valor total de compra calculado.\n",
        "\n",
        "valor_produto = float(input('Informe o valor do seu produto: '))\n",
        "quantidade = int(input('Infome a quantidade comprada: '))\n",
        "\n",
        "print('O valor total da sua compra foi de: R$', valor_produto * quantidade)"
      ],
      "metadata": {
        "colab": {
          "base_uri": "https://localhost:8080/"
        },
        "id": "Ujdqkb3PwwlV",
        "outputId": "7d529f4f-2e59-4d30-f3d2-e259fecee2bc"
      },
      "execution_count": null,
      "outputs": [
        {
          "output_type": "stream",
          "name": "stdout",
          "text": [
            "Informe o valor do seu produto: 5\n",
            "Infome a quantidade comprada: 60\n",
            "O valor total da sua compra foi de: R$ 300.0\n"
          ]
        }
      ]
    },
    {
      "cell_type": "code",
      "source": [
        "# Exercício de fixação 6: Dê continuidade ao exercício anterior, mas com 15% de desconto sobre o valor total.\n",
        "\n",
        "valor_total = valor_produto * quantidade\n",
        "desconto = valor_produto * quantidade * 0.85\n",
        "\n",
        "print('O valor total da sua compra com desconto de 15% foi de: R$', desconto)"
      ],
      "metadata": {
        "colab": {
          "base_uri": "https://localhost:8080/"
        },
        "id": "JQ9RpNIVxOgS",
        "outputId": "91dd7ce7-ca12-41f4-b974-cd6230799363"
      },
      "execution_count": null,
      "outputs": [
        {
          "output_type": "stream",
          "name": "stdout",
          "text": [
            "O valor total da sua compra com desconto de 15% foi de: R$ 255.0\n"
          ]
        }
      ]
    },
    {
      "cell_type": "code",
      "source": [
        "# ATIVIDADE FORMATIVA 1\n",
        "from IPython.display import clear_output\n",
        "\n",
        "def first_function():\n",
        "  print('Primeira função')\n",
        "\n",
        "def second_function():\n",
        "  print('Segunda função')\n",
        "\n",
        "def third_function():\n",
        "  print('Terceira função')\n",
        "\n",
        "def fourth_function():\n",
        "  print('Quarta função')\n",
        "\n",
        "options = {\n",
        "    'a': {\n",
        "        'name': 'Nome da opção 1',\n",
        "        'func': first_function\n",
        "    },\n",
        "    'b': {\n",
        "        'name': 'Nome da opção 2',\n",
        "        'func': second_function\n",
        "    },\n",
        "    'c': {\n",
        "        'name': 'Nome da opção 3',\n",
        "        'func': third_function\n",
        "    },\n",
        "    'd': {\n",
        "        'name': 'Nome da opção 4',\n",
        "        'func': fourth_function\n",
        "    },\n",
        "}\n",
        "\n",
        "option_selected = ''\n",
        "\n",
        "while option_selected not in options.keys():\n",
        "  clear_output()\n",
        "  first_function()\n",
        "\n",
        "  for option, items in options.items():\n",
        "    option_name = list(items.values())[0]\n",
        "\n",
        "    print(f'{option.upper()} - {option_name}')\n",
        "\n",
        "  option_selected = input('Selecione uma opção: ').strip().lower()\n",
        "\n",
        "option_selected_items = options[option_selected]\n",
        "\n",
        "option_selected_items['func']()"
      ],
      "metadata": {
        "id": "aRidYhvQxPCK",
        "colab": {
          "base_uri": "https://localhost:8080/"
        },
        "outputId": "7df80d6c-013c-4550-d237-14602071e23c"
      },
      "execution_count": null,
      "outputs": [
        {
          "output_type": "stream",
          "name": "stdout",
          "text": [
            "Primeira função\n",
            "A - Nome da opção 1\n",
            "B - Nome da opção 2\n",
            "C - Nome da opção 3\n",
            "D - Nome da opção 4\n",
            "Selecione uma opção: a\n",
            "Primeira função\n"
          ]
        }
      ]
    },
    {
      "cell_type": "markdown",
      "source": [
        "## ATP1"
      ],
      "metadata": {
        "id": "pqdCagzbxjw8"
      }
    },
    {
      "cell_type": "code",
      "source": [
        "import csv\n",
        "\n",
        "headers = {\n",
        "  'students': ['code', 'name', 'document'],\n",
        "  'professors': ['code', 'name', 'document'],\n",
        "  'subjects': ['code', 'name'],\n",
        "  'classes': ['code', 'professor_code', 'subject_code'],\n",
        "  'enrollments': ['class_code', 'student_code']\n",
        "}\n",
        "\n",
        "def find_all(entity_name):\n",
        "  data = []\n",
        "\n",
        "  try:\n",
        "    with open(f'{entity_name}.csv', 'r') as file:\n",
        "      reader = csv.DictReader(file)\n",
        "\n",
        "      data = list(reader)\n",
        "\n",
        "      file.close()\n",
        "  except FileNotFoundError:\n",
        "    with open(f'{entity_name}.csv', 'w', newline='') as file:\n",
        "      header = headers[entity_name]\n",
        "\n",
        "      writer = csv.DictWriter(file, fieldnames=header)\n",
        "\n",
        "      file.close()\n",
        "\n",
        "  return data\n",
        "\n",
        "def find_by_code(entity_name, code):\n",
        "  data = find_all(entity_name)\n",
        "\n",
        "  for item in data:\n",
        "    if int(item['code']) == code:\n",
        "      return item\n",
        "\n",
        "def write_data(entity_name, data):\n",
        "  with open(f'{entity_name}.csv', 'w', newline='') as file:\n",
        "    header = headers[entity_name]\n",
        "\n",
        "    writer = csv.DictWriter(file, fieldnames=header)\n",
        "\n",
        "    writer.writeheader()\n",
        "    writer.writerows(data)\n",
        "\n",
        "    file.close()\n",
        "\n",
        "def append_data(entity_name, new_data):\n",
        "  data = find_all(entity_name)\n",
        "\n",
        "  with open(f'{entity_name}.csv', 'a', newline='') as file:\n",
        "    header = headers[entity_name]\n",
        "\n",
        "    writer = csv.DictWriter(file, fieldnames=header)\n",
        "\n",
        "    if len(data) == 0:\n",
        "      writer.writeheader()\n",
        "\n",
        "    writer.writerow(new_data)\n",
        "\n",
        "    file.close()\n",
        "\n",
        "def update(entity_name, new_data):\n",
        "  data = find_all(entity_name)\n",
        "\n",
        "  data_index = [index for index, value in enumerate(data) if new_data['code'] in value.values()][0]\n",
        "\n",
        "  data[data_index] = new_data\n",
        "\n",
        "  write_data(entity_name, data)\n",
        "\n",
        "def delete(entity_name, code):\n",
        "  data = find_all(entity_name)\n",
        "\n",
        "  for item in data:\n",
        "    if int(item['code']) == code:\n",
        "      data.remove(item)\n",
        "\n",
        "  write_data(entity_name, data)\n"
      ],
      "metadata": {
        "id": "BL35PrlZsgdD"
      },
      "execution_count": 47,
      "outputs": []
    },
    {
      "cell_type": "code",
      "source": [
        "def show(entity_name):\n",
        "  data = find_all(entity_name)\n",
        "\n",
        "  for item in data:\n",
        "    print(f'{item[\"code\"]} - {item[\"name\"]}')\n",
        "\n",
        "\n",
        "def back_to_options(entity):\n",
        "  input('Presione ENTRE para continuar')\n",
        "\n",
        "  select_option(entity)\n",
        "\n",
        "\n",
        "def validate_code(list_data, data=None):\n",
        "  if data:\n",
        "    return data['code']\n",
        "\n",
        "  while not (code := input('Informe o código: ')).strip().isdigit() or (code := int(code)) in [item['code'] for item in list_data]:\n",
        "    print('Código inválido!')\n",
        "\n",
        "  return int(code)\n",
        "\n",
        "\n",
        "def validate_name(data=None):\n",
        "  if data:\n",
        "    while not (op := input('Deseja alterar o nome? [S/N] ')).strip().lower() in ['s', 'n']:\n",
        "      print('Opção inválida!')\n",
        "\n",
        "    if op == 'n':\n",
        "      return data['name']\n",
        "\n",
        "  while not (name := input('Informe o nome: ').capitalize()).strip().isalpha():\n",
        "    print('Nome inválido!')\n",
        "\n",
        "  return name\n",
        "\n",
        "\n",
        "def validate_document(data=None):\n",
        "  if data:\n",
        "    while not (op := input('Deseja alterar o CPF? [S/N] ')).strip().lower() in ['s', 'n']:\n",
        "      print('Opção inválida!')\n",
        "\n",
        "    if op == 'n':\n",
        "      return data['document']\n",
        "\n",
        "  while not (document := input('Informe o CPF: ')).strip().isdigit() or len(document) < 11:\n",
        "    print('CPF inválido!')\n",
        "\n",
        "  print(document)\n",
        "  return document\n",
        "\n",
        "\n",
        "def validate_class(data=None):\n",
        "  if data:\n",
        "    while not (op := input('Deseja alterar a aula? [S/N] ')).strip().lower() in ['s', 'n']:\n",
        "      print('Opção inválida!')\n",
        "\n",
        "    if op == 'n':\n",
        "      return data['class_code']\n",
        "\n",
        "  classes = find_all('classes')\n",
        "\n",
        "  if len(classes) == 0:\n",
        "    print('Não há aulas cadastradas.')\n",
        "    return None\n",
        "\n",
        "  print(f'\\n{\"*\"*5} AULAS {\"*\"*5}\\n')\n",
        "  show('classes')\n",
        "\n",
        "  return validate_code(classes)\n",
        "\n",
        "\n",
        "def validate_student(data=None):\n",
        "  if data:\n",
        "    while not (op := input('Deseja alterar o estudante? [S/N] ')).strip().lower() in ['s', 'n']:\n",
        "      print('Opção inválida!')\n",
        "\n",
        "    if op == 'n':\n",
        "      return data['student_class']\n",
        "\n",
        "  students = find_all('students')\n",
        "\n",
        "  if len(students) == 0:\n",
        "    print('Não há estudantes cadastrados.')\n",
        "    return None\n",
        "\n",
        "  print(f'\\n{\"*\"*5} ESTUDANTES {\"*\"*5}\\n')\n",
        "  show('students')\n",
        "\n",
        "  return validate_code(students)\n",
        "\n",
        "\n",
        "def validate_professor(data=None):\n",
        "  if data:\n",
        "    while not (op := input('Deseja alterar o professor? [S/N] ')).strip().lower() in ['s', 'n']:\n",
        "      print('Opção inválida!')\n",
        "\n",
        "    if op == 'n':\n",
        "      return data['professor_code']\n",
        "\n",
        "  professors = find_all('professors')\n",
        "\n",
        "  if len(professors) == 0:\n",
        "    print('Não há professores cadastrados.')\n",
        "    return None\n",
        "\n",
        "  print(f'\\n{\"*\"*5} PROFESSORES {\"*\"*5}\\n')\n",
        "  show('professors')\n",
        "\n",
        "  return validate_code(professors)\n",
        "\n",
        "\n",
        "def validate_subject(data=None):\n",
        "  if data:\n",
        "    while not (op := input('Deseja alterar a disciplina? [S/N] ')).strip().lower() in ['s', 'n']:\n",
        "      print('Opção inválida!')\n",
        "\n",
        "    if op == 'n':\n",
        "      return data['subject_code']\n",
        "\n",
        "  subjects = find_all('subjects')\n",
        "\n",
        "  if len(subjects) == 0:\n",
        "    print('Não há disciplinas cadastradas.')\n",
        "    return\n",
        "\n",
        "  print(f'\\n{\"*\"*5} DISCIPLINAS {\"*\"*5}\\n')\n",
        "  show('subjects')\n",
        "\n",
        "  return validate_code(subjects)\n",
        "\n"
      ],
      "metadata": {
        "id": "PbXAKU0lJEqC"
      },
      "execution_count": 48,
      "outputs": []
    },
    {
      "cell_type": "code",
      "source": [
        "def create_person(entity, person_data=None):\n",
        "  data = find_all(entity['name'])\n",
        "\n",
        "  entity_type = 'estudante' if entity['name'] == 'students' else 'professor'\n",
        "\n",
        "  code = validate_code(data, person_data)\n",
        "  name = validate_name(person_data)\n",
        "  document = validate_document(person_data)\n",
        "\n",
        "  return {\n",
        "    'code': code,\n",
        "    'name': name,\n",
        "    'document': document\n",
        "  }\n",
        "\n",
        "\n",
        "def create_subject(entity, subject_data=None):\n",
        "  subjects = find_all(entity['name'])\n",
        "\n",
        "  code = validate_code(subjects, subject_data)\n",
        "  name = validate_name(subject_data)\n",
        "\n",
        "  return {\n",
        "    'code': code,\n",
        "    'name': name\n",
        "  }\n",
        "\n",
        "\n",
        "def create_class(entity, class_data=None):\n",
        "  professor_code = validate_professor()\n",
        "  subject_code = validate_subject()\n",
        "\n",
        "  if None in [professor_code, subject_code]:\n",
        "    return\n",
        "\n",
        "  classes = find_all(entity['name'])\n",
        "\n",
        "  code = validate_code(classes)\n",
        "\n",
        "  return {\n",
        "    'code': code,\n",
        "    'professor_code': professor_code,\n",
        "    'subject_code': subject_code\n",
        "  }\n",
        "\n",
        "\n",
        "def create_enrollment(entity, type='create'):\n",
        "  student_code = validate_student()\n",
        "  class_code = validate_class()\n",
        "\n",
        "  if None in [student_code, class_code]:\n",
        "    return\n",
        "\n",
        "  return {\n",
        "    'class_code': class_code,\n",
        "    'student_code': student_code\n",
        "  }\n"
      ],
      "metadata": {
        "id": "acTjUoq-JIiH"
      },
      "execution_count": 41,
      "outputs": []
    },
    {
      "cell_type": "code",
      "source": [
        "def include_data(entity):\n",
        "  print(f'\\n{\"=\"*5} INCLUSÃO {\"=\"*5}\\n')\n",
        "\n",
        "  entities_options = {\n",
        "    'students': create_person,\n",
        "    'professors': create_person,\n",
        "    'subjects': create_subject,\n",
        "    'classes': create_class,\n",
        "    'enrollments': create_enrollment\n",
        "  }\n",
        "\n",
        "  data = entities_options[entity['name']](entity)\n",
        "\n",
        "  if data is None:\n",
        "    print('Não foi possível cadastrar dados.')\n",
        "  else:\n",
        "    append_data(entity['name'], data)\n",
        "    print('Dados cadastrados com sucesso!')\n",
        "\n",
        "  back_to_options(entity)\n",
        "\n",
        "\n",
        "def delete_data(entity):\n",
        "  print(f'\\n{\"=\"*5} EXCLUSÃO {\"=\"*5}\\n')\n",
        "\n",
        "  data = find_all(entity['name'])\n",
        "\n",
        "  if len(data):\n",
        "    print('Não há dados cadastrados.')\n",
        "    return\n",
        "\n",
        "  show(entity['name'])\n",
        "\n",
        "  code = validate_code(data)\n",
        "\n",
        "  delete(entity['name'], code)\n",
        "\n",
        "  back_to_options(entity)\n",
        "\n",
        "\n",
        "def update_data(entity):\n",
        "  print(f'\\n{\"=\"*5} ATUALIZAÇÃO {\"=\"*5}\\n')\n",
        "\n",
        "  list_data = find_all(entity['name'])\n",
        "\n",
        "  if len(list_data):\n",
        "    print('Não há dados cadastrados.')\n",
        "    return\n",
        "\n",
        "  show(entity['name'])\n",
        "\n",
        "  code = validate_code(list_data)\n",
        "\n",
        "  data_found = find_by_code(entity['name'], code)\n",
        "\n",
        "  entities_options = {\n",
        "    'students': create_person,\n",
        "    'professors': create_person,\n",
        "    'subjects': create_subject,\n",
        "    'classes': create_class,\n",
        "    'enrollments': create_enrollment\n",
        "  }\n",
        "\n",
        "  data = entities_options[entity['name']](entity, data_found)\n",
        "  print(data)\n",
        "\n",
        "  if data is None:\n",
        "    print('Não foi possível atualizar dados.')\n",
        "  else:\n",
        "    update(entity['name'], data)\n",
        "    print('Dados atualizados com sucesso!')\n",
        "\n",
        "  back_to_options(entity)\n",
        "\n",
        "\n",
        "def show_entity(entity):\n",
        "  print(f'\\n{\"=\"*5} LISTAGEM {\"=\"*5}\\n')\n",
        "\n",
        "  data = find_all(entity['name'])\n",
        "\n",
        "  show(entity['name']) if len(data) > 0 else print(f'Não há {entity[\"title\"]} cadastrados.')\n",
        "\n",
        "  back_to_options(entity)\n"
      ],
      "metadata": {
        "id": "vIUSpflK5zQn"
      },
      "execution_count": 54,
      "outputs": []
    },
    {
      "cell_type": "code",
      "source": [
        "# menus\n",
        "def menu():\n",
        "  entities = [\n",
        "    {\n",
        "      'name': 'students',\n",
        "      'title': 'estudantes'\n",
        "    },\n",
        "    {\n",
        "      'name': 'professors',\n",
        "      'title': 'professores'\n",
        "    },\n",
        "    {\n",
        "      'name': 'subjects',\n",
        "      'title': 'disciplinas'\n",
        "    },\n",
        "    {\n",
        "      'name': 'classes',\n",
        "      'title': 'aulas'\n",
        "    },\n",
        "    {\n",
        "      'name': 'enrollments',\n",
        "      'title': 'matriculas'\n",
        "    }\n",
        "  ]\n",
        "\n",
        "  print(f'\\n{\"-\"*5} MENU PRINCIPAL {\"-\"*5}\\n')\n",
        "\n",
        "  for [index, op] in enumerate(entities):\n",
        "    print(f'({index + 1}) Gerenciar {op[\"title\"]}')\n",
        "\n",
        "  print('(9) Sair\\n')\n",
        "\n",
        "  while not (option := input('Informe a ação desejada: ')).strip().isdigit() or (option := int(option)) not in [*list(range(1, len(entities) + 1)), 9]:\n",
        "    print('Opção inválida!\\n')\n",
        "\n",
        "  print(option)\n",
        "\n",
        "  if option == 9:\n",
        "    print('Saindo do programa...')\n",
        "    return False\n",
        "\n",
        "  select_option(entities[option - 1])\n",
        "\n",
        "\n",
        "def select_option(entity):\n",
        "  operations = [\n",
        "    {\n",
        "      'title': 'incluir',\n",
        "      'func_name': 'inclusão',\n",
        "      'func': include_data\n",
        "    },\n",
        "    {\n",
        "      'title': 'excluir',\n",
        "      'func_name': 'exclusão',\n",
        "      'func': delete_data\n",
        "    },\n",
        "    {\n",
        "      'title': 'atualizar',\n",
        "      'func_name': 'atualização',\n",
        "      'func': update_data\n",
        "    },\n",
        "    {\n",
        "      'title': 'listar',\n",
        "      'func_name': 'listagem',\n",
        "      'func': show_entity\n",
        "    }\n",
        "  ]\n",
        "\n",
        "  print(f'\\n{\"-\"*5} [{entity[\"title\"].upper()}] MENU DE OPERAÇÕES {\"-\"*5}\\n')\n",
        "\n",
        "  for [index, op] in enumerate(operations):\n",
        "    print(f'({index + 1}) {op[\"title\"].capitalize()}')\n",
        "\n",
        "  print('(9) Voltar para o menu principal\\n')\n",
        "\n",
        "  while not (operation := input('Informe a ação desejada: ')).strip().isdigit() or (operation := int(operation)) not in [*list(range(1, len(operations) + 1)), 9]:\n",
        "    print('Opção inválida!\\n')\n",
        "\n",
        "  if operation == 9:\n",
        "    return menu()\n",
        "\n",
        "  operation_selected = operations[operation - 1]\n",
        "\n",
        "  operation_selected['func'](entity)\n",
        "\n",
        "\n",
        "if __name__ == '__main__':\n",
        "  continue_loop = True\n",
        "\n",
        "  while continue_loop:\n",
        "    continue_loop = menu()"
      ],
      "metadata": {
        "id": "6AeIrC9rrcj7"
      },
      "execution_count": null,
      "outputs": []
    },
    {
      "cell_type": "code",
      "source": [
        "if 0:\n",
        "  print('imprimiu')"
      ],
      "metadata": {
        "id": "-HilF13q_J3i"
      },
      "execution_count": 53,
      "outputs": []
    }
  ]
}